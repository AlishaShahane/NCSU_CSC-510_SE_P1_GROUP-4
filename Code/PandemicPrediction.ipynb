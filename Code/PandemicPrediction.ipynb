{
  "nbformat": 4,
  "nbformat_minor": 0,
  "metadata": {
    "kernelspec": {
      "display_name": "Python 3",
      "language": "python",
      "name": "python3"
    },
    "language_info": {
      "codemirror_mode": {
        "name": "ipython",
        "version": 3
      },
      "file_extension": ".py",
      "mimetype": "text/x-python",
      "name": "python",
      "nbconvert_exporter": "python",
      "pygments_lexer": "ipython3",
      "version": "3.7.3"
    },
    "colab": {
      "name": "PandemicPrediction.ipynb",
      "provenance": [],
      "collapsed_sections": []
    }
  },
  "cells": [
    {
      "cell_type": "code",
      "metadata": {
        "id": "GykaMaJLp2QX",
        "colab_type": "code",
        "colab": {}
      },
      "source": [
        "# Imports\n",
        "from igraph import Graph\n",
        "import numpy as np\n",
        "import math\n",
        "import random\n",
        "import matplotlib.pyplot as plt\n",
        "\n",
        "# Global Parameters\n",
        "filename = \"./pandemic_data.txt\"\n",
        "beta_1, delta_1 = 0.01, 0.6\n",
        "num_vaccines_1 = range(20, 30, 1)\n",
        "beta_2, delta_2 = 0.2, 0.7\n",
        "num_vaccines_2 = range(15, 50, 5)"
      ],
      "execution_count": null,
      "outputs": []
    },
    {
      "cell_type": "code",
      "metadata": {
        "id": "GktKG-xIp2Qa",
        "colab_type": "code",
        "colab": {}
      },
      "source": [
        "class Pandemic:\n",
        "    \n",
        "    # Initialize required parameter\n",
        "    def __init__(self, b, d, num_vaccine):\n",
        "        self.beta = b             # Transmission prob\n",
        "        self.delta = d             # Healing prob\n",
        "        self.num_vaccines = num_vaccine\n",
        "    \n",
        "    # Create an igraph for further operations\n",
        "    def getGraph(self, filename):\n",
        "        graph_data = open(filename,\"r\")\n",
        "        g = Graph()\n",
        "        edge_list = graph_data.readlines()\n",
        "        edges = []\n",
        "        nodes = set()\n",
        "        \n",
        "        for e in edge_list[1:]:\n",
        "            e = e.strip().split(\" \")\n",
        "            nodes.add(int(e[0]))\n",
        "            nodes.add(int(e[1]))\n",
        "            edges.append((int(e[0]),int(e[1])))\n",
        "        g.add_vertices(list(nodes))\n",
        "        g.add_edges(edges)\n",
        "        \n",
        "        return g\n",
        "    \n",
        "    # Calculates strength of virus based on eigen values\n",
        "    def getStrength(self, g):\n",
        "        centrality = g.evcent(return_eigenvalue = True)\n",
        "        max_eigen_val = centrality[1]\n",
        "        strength = max_eigen_val * self.beta / self.delta\n",
        "        return strength\n",
        "    \n",
        "    # Predict whether the virus will result in pandemic based on its strength\n",
        "    def predictPandemic(self, strength):\n",
        "        if strength > 1:\n",
        "            print(\"Virus strength is enough to cause a Pandemic :(\")\n",
        "        else:\n",
        "            print(\"Virus strength is not enough to cause a Pandemic :D\")\n",
        "    \n",
        "    def simulate(self,g, time_step_per_simulation, initially_infected_nodes_perc):\n",
        "        cloned_graph = g.copy()\n",
        "        num_nodes = cloned_graph.vcount()\n",
        "        initially_infected_nodes_num = (num_nodes * initially_infected_nodes_perc)/100\n",
        "        \n",
        "        infected_ppl = set(random.sample(range(num_nodes),initially_infected_nodes_num))\n",
        "        infected_count = []\n",
        "        infected_count.append(len(infected_ppl))\n",
        "        \n",
        "        for i in range(time_step_per_simulation):\n",
        "            new_cases = set()\n",
        "            for n in infected_ppl:\n",
        "                neighbors = list(g.neighbors(n, mode = \"out\"))\n",
        "                max_transmission_count = int(self.beta * len(neighbors))\n",
        "                curr_infected = random.sample(neighbors, max_transmission_count)\n",
        "                new_cases.update(curr_infected)\n",
        "            \n",
        "            max_healing_count = int(math.ceil(self.delta * len(infected_ppl)))\n",
        "            recovered = set(random.sample(infected_ppl, max_healing_count))\n",
        "            infected_ppl.update(new_cases)\n",
        "            infected_ppl -= recovered\n",
        "            infected_count.append(len(infected_ppl))\n",
        "                           \n",
        "        return infected_count"
      ],
      "execution_count": null,
      "outputs": []
    },
    {
      "cell_type": "code",
      "metadata": {
        "id": "36E_dylMp2Qd",
        "colab_type": "code",
        "colab": {}
      },
      "source": [
        ""
      ],
      "execution_count": null,
      "outputs": []
    }
  ]
}
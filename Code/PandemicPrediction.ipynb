{
 "cells": [
  {
   "cell_type": "code",
   "execution_count": 1,
   "metadata": {},
   "outputs": [],
   "source": [
    "# Imports \n",
    "\n",
    "# Global Parameters\n",
    "filename = \"./pandemic_data.txt\"\n",
    "beta_1, delta_1 = 0.01, 0.6\n",
    "num_vaccines_1 = range(20, 30, 1)\n",
    "beta_2, delta_2 = 0.2, 0.7\n",
    "num_vaccines_2 = range(15, 50, 5)"
   ]
  },
  {
   "cell_type": "code",
   "execution_count": 2,
   "metadata": {},
   "outputs": [],
   "source": [
    "class Pandemic:\n",
    "    \n",
    "    # Initialize required parameter\n",
    "    def __init__(self, b, d, num_vaccine):\n",
    "        self.beta = b             # Transmission prob\n",
    "        self.delta = d             # Healing prob\n",
    "        self.num_vaccines = num_vaccine"
   ]
  },
  {
   "cell_type": "code",
   "execution_count": null,
   "metadata": {},
   "outputs": [],
   "source": []
  }
 ],
 "metadata": {
  "kernelspec": {
   "display_name": "Python 3",
   "language": "python",
   "name": "python3"
  },
  "language_info": {
   "codemirror_mode": {
    "name": "ipython",
    "version": 3
   },
   "file_extension": ".py",
   "mimetype": "text/x-python",
   "name": "python",
   "nbconvert_exporter": "python",
   "pygments_lexer": "ipython3",
   "version": "3.7.3"
  }
 },
 "nbformat": 4,
 "nbformat_minor": 4
}

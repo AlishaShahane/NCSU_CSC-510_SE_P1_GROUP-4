{
 "cells": [
  {
   "cell_type": "code",
   "execution_count": 1,
   "metadata": {
    "colab": {},
    "colab_type": "code",
    "collapsed": true,
    "id": "GykaMaJLp2QX"
   },
   "outputs": [],
   "source": [
    "# Imports\n",
    "from igraph import Graph\n",
    "import numpy as np\n",
    "import math\n",
    "import random\n",
    "import matplotlib.pyplot as plt\n",
    "\n",
    "# Global Parameters\n",
    "filename = \"../Data/pandemic_data.txt\"\n",
    "beta_1, delta_1 = 0.01, 0.6\n",
    "num_vaccines_1 = range(20, 30, 1)\n",
    "beta_2, delta_2 = 0.2, 0.7\n",
    "num_vaccines_2 = range(15, 50, 5)"
   ]
  },
  {
   "cell_type": "code",
   "execution_count": 4,
   "metadata": {
    "colab": {},
    "colab_type": "code",
    "collapsed": true,
    "id": "GktKG-xIp2Qa"
   },
   "outputs": [],
   "source": [
    "class Pandemic:\n",
    "    \n",
    "    # Initialize required parameter\n",
    "    def __init__(self, b, d, num_vaccine):\n",
    "        self.beta = b             # Transmission prob\n",
    "        self.delta = d             # Healing prob\n",
    "        self.num_vaccines = num_vaccine\n",
    "    \n",
    "    # Create an igraph for further operations\n",
    "    def getGraph(self, filename):\n",
    "        graph_data = open(filename,\"r\")\n",
    "        g = Graph()\n",
    "        edge_list = graph_data.readlines()\n",
    "        edges = []\n",
    "        nodes = set()\n",
    "        \n",
    "        for e in edge_list[1:]:\n",
    "            e = e.strip().split(\" \")\n",
    "            nodes.add(int(e[0]))\n",
    "            nodes.add(int(e[1]))\n",
    "            edges.append((int(e[0]),int(e[1])))\n",
    "        g.add_vertices(list(nodes))\n",
    "        g.add_edges(edges)\n",
    "        \n",
    "        return g\n",
    "    \n",
    "    # Calculates strength of virus based on eigen values\n",
    "    def getStrength(self, g):\n",
    "        centrality = g.evcent(return_eigenvalue = True)\n",
    "        max_eigen_val = centrality[1]\n",
    "        strength = max_eigen_val * self.beta / self.delta\n",
    "        return strength\n",
    "    \n",
    "    # Predict whether the virus will result in pandemic based on its strength\n",
    "    def predictPandemic(self, strength):\n",
    "        if strength > 1:\n",
    "            print(\"Virus strength is enough to cause a Pandemic :(\")\n",
    "        else:\n",
    "            print(\"Virus strength is not enough to cause a Pandemic :D\")\n",
    "    \n",
    "    def simulate(self,g, time_step_per_simulation, initially_infected_nodes_perc):\n",
    "        cloned_graph = g.copy()\n",
    "        num_nodes = cloned_graph.vcount()\n",
    "        initially_infected_nodes_num = (num_nodes * initially_infected_nodes_perc)/100\n",
    "        \n",
    "        infected_ppl = set(random.sample(range(num_nodes),initially_infected_nodes_num))\n",
    "        infected_count = []\n",
    "        infected_count.append(len(infected_ppl))\n",
    "        \n",
    "        for i in range(time_step_per_simulation):\n",
    "            new_cases = set()\n",
    "            for n in infected_ppl:\n",
    "                neighbors = list(g.neighbors(n, mode = \"out\"))\n",
    "                max_transmission_count = int(self.beta * len(neighbors))\n",
    "                curr_infected = random.sample(neighbors, max_transmission_count)\n",
    "                new_cases.update(curr_infected)\n",
    "            \n",
    "            max_healing_count = int(math.ceil(self.delta * len(infected_ppl)))\n",
    "            recovered = set(random.sample(infected_ppl, max_healing_count))\n",
    "            infected_ppl.update(new_cases)\n",
    "            infected_ppl -= recovered\n",
    "            infected_count.append(len(infected_ppl))\n",
    "                           \n",
    "        return infected_count\n",
    "    \n",
    "    def run_simulations(self, g, simulation_count, time_step_per_simulation, initially_infected_nodes_perc):\n",
    "        strength = self.getStrength(g)\n",
    "        \n",
    "        results = []\n",
    "        avg_infected_people_per_time_step = []\n",
    "        for i in range(simulation_count):\n",
    "            res = self.simulate(g, time_step_per_simulation, initially_infected_nodes_perc)\n",
    "            results.append(res)\n",
    "        \n",
    "        for j in range(time_step_per_simulation):\n",
    "            avg_infected_people_per_time_step.append(np.mean([results[k][j] for k in range(simulation_count)]))\n",
    "\n",
    "        print(\"\\n\\n\" + \"Initially affected: \" + str(avg_infected_people_per_time_step[0]))\n",
    "        print(\"Finally affected: \" + str(avg_infected_people_per_time_step[-1]))\n",
    "        \n",
    "        if avg_infected_people_per_time_step[0] <= avg_infected_people_per_time_step[-1]:\n",
    "            print(\"\\n\\n\" + \"Simulation results show that the virus caused a pandemic....\")\n",
    "        else:\n",
    "            print(\"\\n\\n\" + \"Simulation results show that the pandemic was prevented!!\")\n",
    "        \n",
    "        fig = plt.figure(figsize = (8, 6))\n",
    "        plt.plot(avg_infected_people_per_time_step)\n",
    "        plt.xlabel('Time Step')\n",
    "        plt.ylabel('Average Number of Infected Nodes')\n",
    "        plt.show()\n",
    "        \n",
    "    # Driver code for implementing immunization policies and plotting results\n",
    "    def runImmunization(self, g, policy):\n",
    "        strengths = []\n",
    "        \n",
    "        for vacc in self.num_vaccines:\n",
    "            if policy == \"first\":\n",
    "                new_g = self.firstImmunizationPolicy(g, vacc)\n",
    "                strengths.append(self.getStrength(new_g))\n",
    "            elif policy == \"second\":\n",
    "                # CALL THE POLICY HERE\n",
    "                pass\n",
    "            elif policy == \"third\":\n",
    "                # CALL THE POLICY HERE\n",
    "                pass\n",
    "            elif policy == \"fourth\":\n",
    "                # CALL THE POLICY HERE\n",
    "                pass\n",
    "                \n",
    "        # Plot\n",
    "        fig = plt.figure(figsize = (8, 6))\n",
    "        plt.plot(self.num_vaccines, strengths)\n",
    "        plt.xlabel('Number of Vacciness')\n",
    "        plt.ylabel('Strength of the Virus')\n",
    "        plt.show()\n",
    "        \n",
    "    \n",
    "    # First immunization policy which select random nodes to immunize\n",
    "    def firstImmunizationPolicy(self, g, num_vaccines):\n",
    "        to_be_deleted = random.sample(range(g.vcount()), num_vaccines)\n",
    "        g.delete_vertices(to_be_deleted)\n",
    "        \n",
    "        new_label = 0\n",
    "        for v in g.vs:\n",
    "            v['name'] = new_label\n",
    "            new_label += 1\n",
    "            \n",
    "        return g"
   ]
  },
  {
   "cell_type": "markdown",
   "metadata": {},
   "source": [
    "# Lets do some simulation!\n",
    "\n",
    "#### 1. Parameters\n",
    " - Beta = 0.01\n",
    " - Delta = 0.6\n",
    " - Vaccines available = [20, 21, 22,....30]"
   ]
  },
  {
   "cell_type": "code",
   "execution_count": 5,
   "metadata": {
    "colab": {},
    "colab_type": "code",
    "id": "36E_dylMp2Qd"
   },
   "outputs": [
    {
     "name": "stdout",
     "output_type": "stream",
     "text": [
      "Virus strength is not enough to cause a Pandemic :D\n",
      "\n",
      "\n",
      "Initially affected: 16.0\n",
      "Finally affected: 0.0\n",
      "\n",
      "\n",
      "Simulation results show that the pandemic was prevented!!\n"
     ]
    },
    {
     "data": {
      "image/png": "[encoded data removed]",
      "text/plain": [
       "<Figure size 576x432 with 1 Axes>"
      ]
     },
     "metadata": {
      "needs_background": "light"
     },
     "output_type": "display_data"
    }
   ],
   "source": [
    "# This cell simulates for one combination of parameters \n",
    "letsPredict_1 = Pandemic(beta_1, delta_1, num_vaccines_1)\n",
    "\n",
    "graph_1 = letsPredict_1.getGraph(filename)\n",
    "letsPredict_1.predictPandemic(letsPredict_1.getStrength(graph_1))\n",
    "letsPredict_1.run_simulations(graph_1, simulation_count = 5, time_step_per_simulation = 100, initially_infected_nodes_perc = 5)"
   ]
  },
  {
   "cell_type": "markdown",
   "metadata": {},
   "source": [
    "#### 2. Parameters\n",
    " - Beta = 0.2\n",
    " - Delta = 0.7\n",
    " - Vaccines available = [15, 20, 25, ...50]"
   ]
  },
  {
   "cell_type": "code",
   "execution_count": 6,
   "metadata": {},
   "outputs": [
    {
     "name": "stdout",
     "output_type": "stream",
     "text": [
      "Virus strength is enough to cause a Pandemic :(\n",
      "\n",
      "\n",
      "Initially affected: 16.0\n",
      "Finally affected: 175.4\n",
      "\n",
      "\n",
      "Simulation results show that the virus caused a pandemic....\n"
     ]
    },
    {
     "data": {
      "image/png": "[encoded data removed]",
      "text/plain": [
       "<Figure size 576x432 with 1 Axes>"
      ]
     },
     "metadata": {
      "needs_background": "light"
     },
     "output_type": "display_data"
    }
   ],
   "source": [
    "# This cell simulates for another combination of parameters \n",
    "letsPredict_2 = Pandemic(beta_2, delta_2, num_vaccines_2)\n",
    "graph_2 = letsPredict_2.getGraph(filename)\n",
    "\n",
    "\n",
    "letsPredict_2.predictPandemic(letsPredict_2.getStrength(graph_2))\n",
    "letsPredict_2.run_simulations(graph_2, simulation_count = 5, time_step_per_simulation = 100, initially_infected_nodes_perc = 5)"
   ]
  }
 ],
 "metadata": {
  "colab": {
   "collapsed_sections": [],
   "name": "PandemicPrediction.ipynb",
   "provenance": []
  },
  "kernelspec": {
   "display_name": "Python 2",
   "language": "python",
   "name": "python2"
  },
  "language_info": {
   "codemirror_mode": {
    "name": "ipython",
    "version": 2
   },
   "file_extension": ".py",
   "mimetype": "text/x-python",
   "name": "python",
   "nbconvert_exporter": "python",
   "pygments_lexer": "ipython2",
   "version": "2.7.16"
  }
 },
 "nbformat": 4,
 "nbformat_minor": 1
}
